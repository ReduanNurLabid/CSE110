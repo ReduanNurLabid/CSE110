{
  "cells": [
    {
      "cell_type": "markdown",
      "metadata": {},
      "source": [
        "**Task 1**\n",
        "\n",
        "Suppose you have a list named my_list as given below.\n",
        "\n",
        "my_list = [10, 1, 20, 3, 6, 2, 5, 11, 15, 2, 12, 14, 17, 18, 29]\n",
        "\n",
        "Now use bubble sort to sort my_list into ascending order.\n",
        "\n",
        "Output:\n",
        "\n",
        "[1, 2, 2, 3, 5, 6, 10, 11, 12, 14, 15, 17, 18, 20, 29]"
      ]
    },
    {
      "cell_type": "code",
      "execution_count": null,
      "metadata": {
        "id": "7JSzARlPumkX",
        "outputId": "fed6542f-4333-4902-dddc-58712c9aceb6"
      },
      "outputs": [
        {
          "name": "stdout",
          "output_type": "stream",
          "text": [
            "[1, 2, 2, 3, 5, 6, 10, 11, 12, 14, 15, 17, 18, 20, 29]\n"
          ]
        }
      ],
      "source": [
        "#1\n",
        "my_list =[10, 1, 20, 3, 6, 2, 5, 11, 15, 2, 12, 14, 17, 18, 29]\n",
        "def bubble_sort(my_list):\n",
        "    for i in range(len(my_list)):\n",
        "        for j in range(i,len(my_list)):\n",
        "            if my_list[i]>my_list[j]:\n",
        "                my_list[i] , my_list[j] = my_list[j] , my_list[i]\n",
        "    return my_list\n",
        "print(bubble_sort(my_list))"
      ]
    },
    {
      "cell_type": "markdown",
      "metadata": {},
      "source": [
        "**Task 2**\n",
        "\n",
        "Suppose you have a list named my_list as given below\n",
        "\n",
        "my_list= [10, 1, 20, 3, 6, 2, 5, 11, 15, 2, 12, 14, 17, 18, 29]\n",
        "\n",
        "Now use selection sort to sort my_list into ascending order.\n",
        "\n",
        "Output:\n",
        "\n",
        "[1, 2, 2, 3, 5, 6, 10, 11, 12, 14, 15, 17, 18, 20, 29]"
      ]
    },
    {
      "cell_type": "code",
      "execution_count": null,
      "metadata": {
        "id": "Sfs0lwafumka",
        "outputId": "8d59aa67-481b-41fa-88ab-528d96f8d206"
      },
      "outputs": [
        {
          "name": "stdout",
          "output_type": "stream",
          "text": [
            "[1, 2, 2, 3, 5, 6, 10, 11, 12, 14, 15, 17, 18, 20, 29]\n"
          ]
        }
      ],
      "source": [
        "#2\n",
        "my_list= [10, 1, 20, 3, 6, 2, 5, 11, 15, 2, 12, 14, 17, 18, 29]\n",
        "for i in range(len(my_list)):\n",
        "        minimum = i\n",
        "        for j in range(i+1,len(my_list)):\n",
        "            if my_list[minimum] > my_list[j]:\n",
        "                minimum = j\n",
        "        my_list[i], my_list[minimum] = my_list[minimum], my_list[i]\n",
        "print(my_list)"
      ]
    },
    {
      "cell_type": "markdown",
      "metadata": {},
      "source": [
        "**Task 3**\n",
        "\n",
        "Suppose you have a list named my_list as given below.\n",
        "\n",
        "my_list = [10, 1, 20, 3, 6, 2, 5, 11, 15, 2, 12, 14, 17, 18, 29]\n",
        "\n",
        "Now use any of the two sorting techniques you have used above to sort the list in descending order.\n",
        "\n",
        "Output:\n",
        "\n",
        "[29, 20, 18, 17, 15, 14, 12, 11, 10, 6, 5, 3, 2, 2, 1]"
      ]
    },
    {
      "cell_type": "code",
      "execution_count": null,
      "metadata": {
        "id": "WZcMdyTuumkb",
        "outputId": "35c0b535-8413-4783-b4ee-298b157a4420"
      },
      "outputs": [
        {
          "name": "stdout",
          "output_type": "stream",
          "text": [
            "[29, 20, 18, 17, 15, 14, 12, 11, 10, 6, 5, 3, 2, 2, 1]\n"
          ]
        }
      ],
      "source": [
        "#3\n",
        "my_list= [10, 1, 20, 3, 6, 2, 5, 11, 15, 2, 12, 14, 17, 18, 29]\n",
        "for i in range(len(my_list)):\n",
        "        minimum = i\n",
        "        for j in range(i+1,len(my_list)):\n",
        "            if my_list[minimum] < my_list[j]:\n",
        "                minimum = j\n",
        "        my_list[i], my_list[minimum] = my_list[minimum], my_list[i]\n",
        "print(my_list)"
      ]
    },
    {
      "cell_type": "markdown",
      "metadata": {},
      "source": [
        "**Task 4**\n",
        "\n",
        "Suppose you have a sitting arrangement of the students who will give the final exam in a list. The list contains the last two digits of their student ID as given below.\n",
        "\n",
        "sitting_list = [10,30,20,70,11,15,22,16,58,100,12,56,70,80]\n",
        "\n",
        "Now you want to organize the sitting arrangement of the students in your own way. You decide to sort all the students in the even indices of the list in ascending order and all the students in the odd indices of the list in descending order.\n",
        "\n",
        "So, write a python program that organizes the list for you in this way.\n",
        "\n",
        "Output:\n",
        "\n",
        "[10, 100, 11, 80, 12, 70, 20, 56, 22, 30, 58, 16, 70, 15]"
      ]
    },
    {
      "cell_type": "code",
      "execution_count": null,
      "metadata": {
        "id": "OC13HQY7umkc",
        "outputId": "2e3a9e23-4e73-4560-a512-69ff6827a4e9"
      },
      "outputs": [
        {
          "name": "stdout",
          "output_type": "stream",
          "text": [
            "[10, 100, 11, 80, 12, 70, 20, 56, 22, 30, 58, 16, 70, 15]\n"
          ]
        }
      ],
      "source": [
        "#4\n",
        "sitting_list = [10,30,20,70,11,15,22,16,58,100,12,56,70,80]\n",
        "even_list=[]\n",
        "odd_list=[]\n",
        "for i in range(len(sitting_list)):\n",
        "    if i % 2 == 0:\n",
        "        even_list.append(sitting_list[i])\n",
        "    else:\n",
        "        odd_list.append(sitting_list[i])\n",
        "\n",
        "even_list.sort()\n",
        "odd_list.sort(reverse=True)\n",
        "\n",
        "x = 0\n",
        "y = 0\n",
        "\n",
        "for idx in range(len(sitting_list)):\n",
        "    if idx % 2 == 0:\n",
        "        sitting_list[idx]=even_list[x]\n",
        "        x+=1\n",
        "    else:\n",
        "        sitting_list[idx]=odd_list[y]\n",
        "        y+=1\n",
        "        \n",
        "print(sitting_list)"
      ]
    },
    {
      "cell_type": "markdown",
      "metadata": {},
      "source": [
        "**Task 5**\n",
        "\n",
        "Suppose a list contains marks earned in the courses CSE110, PHY111, and MAT110 of\n",
        "each student consecutively in a nested list form. Your task is to take a course name as\n",
        "input from the user and sort the list based on the marks obtained in that course to\n",
        "finally print the names of the students in descending order of marks obtained i.e. from\n",
        "the student who earned the highest marks to the student who earned the lowest.\n",
        "\n",
        "For example, the list may look like\n",
        "\n",
        "lst = [ [\"Alan\", 95, 87, 91], [\"Turing\", 92, 90, 83], [\"Elon\", 87, 92, 80], [\"Musk\", 85, 94, 90] ]\n",
        "\n",
        "where for each nested list, 1st index holds the name of the student, 2nd index is total\n",
        "marks earned in the CSE110 course, 3rd index is PHY111 marks and 4th index is\n",
        "MAT110 marks.\n",
        "\n",
        "Hint:\n",
        "\n",
        "You may create a function for sorting, then call it whenever needed instead of rewriting\n",
        "the code.\n",
        "\n",
        "You may get the data in the individual lists from the given nested list.\n",
        "\n",
        "Sample Input 1\n",
        "\n",
        "MAT110\n",
        "\n",
        "Sample Output 1\n",
        "\n",
        "Alan\n",
        "\n",
        "Musk\n",
        "\n",
        "Turing\n",
        "\n",
        "Elon\n",
        "\n",
        "Explanation:\n",
        "\n",
        "Here the user gives us \"MAT110\" as the course name. Now, the students Alan, Turing,\n",
        "Elon, and Musk earned 91, 83, 80, and 90 marks respectively in this course. If we sort it,\n",
        "Alan got the highest marks of 91 followed by Musk with 90 marks and Turing with 83\n",
        "marks. Among these 4 students, Elon obtained the lowest marks in the MAT110 course\n",
        "with 80 marks. All of these have been illustrated in our sample output.\n",
        "\n",
        "Sample Input 2\n",
        "\n",
        "PHY111\n",
        "\n",
        "Sample Output 2\n",
        "\n",
        "Musk\n",
        "\n",
        "Elon\n",
        "\n",
        "Turing\n",
        "\n",
        "Alan"
      ]
    },
    {
      "cell_type": "code",
      "execution_count": null,
      "metadata": {
        "id": "tPv2f9hdumkc",
        "outputId": "73074b44-8ff1-48ad-80d7-c573f70c7897"
      },
      "outputs": [
        {
          "name": "stdout",
          "output_type": "stream",
          "text": [
            "Alan\n",
            "Musk\n",
            "Turing\n",
            "Elon\n"
          ]
        }
      ],
      "source": [
        "#5\n",
        "user_input = input(\"\")\n",
        "lst = [ [\"Alan\", 95, 87, 91], [\"Turing\", 92, 90, 83], [\"Elon\", 87, 92, 80], [\"Musk\", 85, 94, 90] ]\n",
        "dict_1 = { \"CSE110\":1, \"PHY111\": 2, \"MAT110\": 3}\n",
        "\n",
        "idx = dict_1[user_input]\n",
        "\n",
        "for i in range(len(lst)):\n",
        "\n",
        "    for j in range(i,len(lst)):\n",
        "        if lst[i][idx]<lst[j][idx]:\n",
        "            lst[i],lst[j]=lst[j],lst[i]\n",
        "\n",
        "for i in lst:\n",
        "    print(i[0])\n"
      ]
    },
    {
      "cell_type": "markdown",
      "metadata": {},
      "source": [
        "**Task 6**\n",
        "\n",
        "Suppose you have a list named my_list as given below. Your task is to sort the list in\n",
        "ascending order and print the count of numbers that have changed their positions in the\n",
        "process of sorting.\n",
        "\n",
        "my_list = [4, 2, 3, 1, 6, 5]\n",
        "\n",
        "The sorted list would be [1, 2, 3, 4, 5, 6] where 4 numbers (4, 1, 6, and 5) have changed\n",
        "their positions. Therefore our sample output here would be 4. Please check if your code\n",
        "is working correctly by changing the above list and using the knowledge given here to\n",
        "verify whether your code gives the correct output for all different lists.\n",
        "\n",
        "Sample Output for the above list\n",
        "\n",
        "4"
      ]
    },
    {
      "cell_type": "code",
      "execution_count": null,
      "metadata": {
        "id": "p-nGKE3Cumkd",
        "outputId": "6c7487c0-00de-411c-eb20-fec28949cd86"
      },
      "outputs": [
        {
          "name": "stdout",
          "output_type": "stream",
          "text": [
            "4\n"
          ]
        }
      ],
      "source": [
        "#6\n",
        "my_list = [4, 2, 3, 1, 6, 5]\n",
        "counter = 0\n",
        "sorted_my_list = sorted(my_list)\n",
        "\n",
        "for i in range(len(my_list)):\n",
        "    if my_list[i] != sorted_my_list [i]:\n",
        "        counter += 1\n",
        "print(counter)"
      ]
    },
    {
      "cell_type": "markdown",
      "metadata": {},
      "source": [
        "**Task 7**\n",
        "\n",
        "Write a python program that takes two lists from the user, merges the two lists, sorts the resulting list, and then finds the median of the elements in the two lists.\n",
        "\n",
        "Sample Input 1\n",
        "\n",
        "list_one = [1, 2, 1, 4]\n",
        "\n",
        "list_two = [5, 4, 1]\n",
        "\n",
        "Sample Output 1\n",
        "\n",
        "Sorted list = [1, 1, 1, 2, 4, 4, 5]\n",
        "\n",
        "Median = 2\n",
        "\n",
        "Sample Input 2\n",
        "\n",
        "list_one = [1, 7, 9, 10]\n",
        "\n",
        "list_two = [2, 7, 6, 5]\n",
        "\n",
        "Sample Output 2\n",
        "\n",
        "Sorted list = [1, 2, 5, 6, 7, 7, 9, 10]\n",
        "\n",
        "Median = 6.5"
      ]
    },
    {
      "cell_type": "code",
      "execution_count": null,
      "metadata": {
        "id": "mMdE1E9lumkd",
        "outputId": "abadd47e-be3b-4362-8fd9-004f4f9d0ba7"
      },
      "outputs": [
        {
          "name": "stdout",
          "output_type": "stream",
          "text": [
            "Sorted list = [1, 1, 1, 2, 4, 4, 5]\n",
            "Median = 2.0\n"
          ]
        }
      ],
      "source": [
        "#7\n",
        "list_one = [1, 2,1,4]\n",
        "list_two = [5,4,1]\n",
        "\n",
        "lis_3 = list_one + list_two\n",
        "lis_3.sort()\n",
        "\n",
        "size = len(lis_3)\n",
        "idx=int((size-1)/2)\n",
        "\n",
        "result = lis_3[idx:-idx]\n",
        "\n",
        "if size %2 ==0:\n",
        "    median = sum(result)/len(result)\n",
        "else:\n",
        "    median = sum(result)/len(result)\n",
        "\n",
        "print(\"Sorted list =\", lis_3)\n",
        "print(\"Median =\", median)"
      ]
    },
    {
      "cell_type": "markdown",
      "metadata": {},
      "source": [
        "**Task 8**\n",
        "\n",
        "Write a python program that takes a list from a user containing both positive and\n",
        "negative numbers. The program then finds two pairs of values whose summation is\n",
        "closest to zero.\n",
        "\n",
        "Sample Input 1\n",
        "\n",
        "list_one = [-10, 15, 2, 4, -4, 7, -8]\n",
        "\n",
        "Sample Output 1\n",
        "\n",
        "Two pairs which have the smallest sum = 4 and -4\n",
        "\n",
        "Sample Input 2\n",
        "\n",
        "list_one = [1, -8, 4, -7, -20, 26, 70, -85]\n",
        "\n",
        "Sample Output 2\n",
        "\n",
        "Two pairs which have the smallest sum = 4 and -7"
      ]
    },
    {
      "cell_type": "code",
      "execution_count": null,
      "metadata": {
        "id": "7D26c5pqumke",
        "outputId": "a9dffea6-689a-428a-ce6e-20ca67d8a871"
      },
      "outputs": [
        {
          "name": "stdout",
          "output_type": "stream",
          "text": [
            "Two pairs which have the smallest sum = 4 and -4\n"
          ]
        }
      ],
      "source": [
        "#8\n",
        "lis_1 = input(\"enter the list:\")\n",
        "lis_1 = lis_1.replace(\"]\",\"\").replace(\"[\",\"\")\n",
        "lis_1 = lis_1.split(\",\")\n",
        "lis_1 = list(map(int, lis_1))\n",
        "\n",
        "closest = abs(lis_1[0]+lis_1[1])\n",
        "for i in range(len(lis_1)):\n",
        "    for j in range(i+1,len(lis_1)):\n",
        "        summation = abs(lis_1[i] + lis_1[j])\n",
        "        if summation < closest:\n",
        "            closest = summation\n",
        "            idx_1 = i\n",
        "            idx_2 = j\n",
        "print(f\"Two pairs which have the smallest sum = {lis_1[idx_1]} and {lis_1[idx_2]}\")\n",
        " "
      ]
    },
    {
      "cell_type": "markdown",
      "metadata": {},
      "source": [
        "**Task 9**\n",
        "\n",
        "You will be given a list of tuples where each tuple indicates a point i.e. (x, y) in a 2-dimensional coordinate system.\n",
        "\n",
        "You need to write a python program to find the minimum distance and the point that is closest to the origin i.e. (0,0)\n",
        "\n",
        "Hint:\n",
        "\n",
        "The formula of distance = √((Δx)2+(Δy)2)\n",
        "\n",
        "As you are calculating the distance from the origin (0,0), you can simply use\n",
        "\n",
        "distance = √(x2+y2)\n",
        "\n",
        "You can create a list of distances from each point and sort that list using your personal\n",
        "favorite sorting algorithm.\n",
        "\n",
        "Sample Input 1\n",
        "\n",
        "points = [(5,3), (2,9), (-2,7), (-3,-4), (0,6), (7,-2)]\n",
        "\n",
        "Sample Output 1\n",
        "\n",
        "Minimum distance = 5.0\n",
        "\n",
        "Here the closest point is (-3,-4) which has a distance of 5.0 from the origin.\n",
        "\n",
        "Sample Input 1\n",
        "\n",
        "points = [(1,7), (4,5), (-1,7), (-2,0), (1,1), (5,-1)]\n",
        "\n",
        "Sample Output 1\n",
        "\n",
        "Minimum distance = 1.4142135623730951\n",
        "\n",
        "Here the closest point is (1,1) which has a distance of 1.4142135623730951 from the origin."
      ]
    },
    {
      "cell_type": "code",
      "execution_count": null,
      "metadata": {
        "id": "bs7bLbnvumkf",
        "outputId": "48fff66c-7905-446d-9356-bed7fd21686d"
      },
      "outputs": [
        {
          "name": "stdout",
          "output_type": "stream",
          "text": [
            "1.4142135623730951\n",
            "Here the closest point is (1, 1) which has a distance of 1.4142135623730951 from the origin.\n"
          ]
        }
      ],
      "source": [
        "#9\n",
        "points = [(1,7), (4,5), (-1,7), (-2,0), (1,1), (5,-1)]\n",
        "\n",
        "import math\n",
        "def distance(x,y):\n",
        "    result = math.sqrt(x**2 + y**2)\n",
        "    return result\n",
        "\n",
        "min_distance = distance(points[0][0], points[0][1])\n",
        "\n",
        "for i in points:\n",
        "    x,y = i\n",
        "    d = distance(x,y)\n",
        "    if d <= min_distance:\n",
        "        min_distance = d\n",
        "        idx = i\n",
        "\n",
        "print(min_distance)\n",
        "print(f\"Here the closest point is {idx} which has a distance of {min_distance} from the origin.\")"
      ]
    }
  ],
  "metadata": {
    "colab": {
      "name": "22101803_Reduan Nur Labid_26_CSE110Assignment7.ipynb",
      "provenance": []
    },
    "interpreter": {
      "hash": "aecd030d4c8316a52bf122072e28f84bcc79844c2684e041fef2e3f1d9f59078"
    },
    "kernelspec": {
      "display_name": "Python 3.10.4 64-bit",
      "language": "python",
      "name": "python3"
    },
    "language_info": {
      "codemirror_mode": {
        "name": "ipython",
        "version": 3
      },
      "file_extension": ".py",
      "mimetype": "text/x-python",
      "name": "python",
      "nbconvert_exporter": "python",
      "pygments_lexer": "ipython3",
      "version": "3.10.4"
    },
    "orig_nbformat": 4
  },
  "nbformat": 4,
  "nbformat_minor": 0
}
