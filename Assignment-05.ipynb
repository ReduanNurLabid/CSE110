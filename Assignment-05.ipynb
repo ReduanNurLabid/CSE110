{
  "cells": [
    {
      "cell_type": "markdown",
      "source": [
        "**Task 1**\n",
        "\n",
        "Assume, you have been given a tuple. \n",
        "\n",
        "a_tuple = (\"The Institute\", (\"Best Mystery & Thriller\", \"The Silent Patient\", 68821), 75717, [1, 2, 3, 400, 5, 6, 7], (\"Best Fiction\", \"The Testaments\", 98291)) \n",
        "\n",
        "Write one line of Python code to access and print the value 400.\n",
        "\n",
        "Output: 400 \n"
      ],
      "metadata": {
        "id": "LHGdtRzq5TYl"
      }
    },
    {
      "cell_type": "code",
      "execution_count": null,
      "metadata": {
        "id": "NYDM7pQPqEHR",
        "outputId": "7fb8dfc1-93fc-4612-af03-a1973f691409"
      },
      "outputs": [
        {
          "name": "stdout",
          "output_type": "stream",
          "text": [
            "400\n"
          ]
        }
      ],
      "source": [
        "#1\n",
        "a_tuple = (\"The Institute\", (\"Best Mystery & Thriller\", \"The Silent Patient\", 68821), 75717, [1, 2, 3, 400, 5, 6, 7], (\"Best Fiction\", \"The Testaments\", 98291)) \n",
        "print(a_tuple[3][3])"
      ]
    },
    {
      "cell_type": "markdown",
      "source": [
        "**Task 2**\n",
        "\n",
        "Assume, you have been given a tuple. Write a Python program that creates a new  tuple excluding the first and last two elements of the given tuple and prints the new tuple. \n",
        "\n",
        "Hint: You may use tuple slicing. \n",
        "\n",
        "Sample Input 1: \n",
        "(10, 20, 24, 25, 26, 35, 70) \n",
        "\n",
        "Sample Output 1: \n",
        "(24, 25, 26) \n",
        "\n",
        "Sample Input 2: \n",
        "(-10, 20, 30, 40) \n",
        "\n",
        "Sample Output 2: \n",
        "() \n",
        "\n",
        "Sample Input 3: \n",
        "(-10, 20, 25, 30, 40) \n",
        "\n",
        "Sample Output 3: \n",
        "(25,)\n"
      ],
      "metadata": {
        "id": "dyM91xq96PLd"
      }
    },
    {
      "cell_type": "code",
      "execution_count": null,
      "metadata": {
        "id": "suznujeUqEHU",
        "outputId": "dca33ba2-d7fe-4f59-8f84-af869ea989c2"
      },
      "outputs": [
        {
          "name": "stdout",
          "output_type": "stream",
          "text": [
            "(24,)\n"
          ]
        }
      ],
      "source": [
        "#2\n",
        "given_tuple = (10, 20, 24, 25, 26, 35, 70)\n",
        "print(given_tuple[2:-2])"
      ]
    },
    {
      "cell_type": "markdown",
      "source": [
        "**Task 3**\n",
        "\n",
        "Assume, you have been given a tuple. \n",
        "\n",
        "\n",
        "*book_info = ( \n",
        "(\"Best Mystery & Thriller\",\"The Silent Patient\",68,821), \n",
        "(\"Best Horror\",\"The Institute\",75,717), \n",
        "(\"Best History & Biography\",\"The five\",31,783 ), \n",
        "(\"Best Fiction\",\"The Testaments\",98,291) \n",
        ")*\n",
        "\n",
        "Write a Python program that prints the size of the tuple and all its elements as shown below\n",
        "\n",
        "Output: \n",
        "Size of the tuple is: 4 \n",
        "\n",
        "('Best Mystery & Thriller', 'The Silent Patient', 68, 821) \n",
        "('Best Horror', 'The Institute', 75, 717) \n",
        "('Best History & Biography', 'The five', 31, 783) \n",
        "('Best Fiction', 'The Testaments', 98, 291) \n",
        "\n"
      ],
      "metadata": {
        "id": "vdzw5zb26bbZ"
      }
    },
    {
      "cell_type": "code",
      "execution_count": null,
      "metadata": {
        "id": "vH-vuphZqEHV",
        "outputId": "91520064-d07b-4f3d-ca2c-7fed6735549e"
      },
      "outputs": [
        {
          "name": "stdout",
          "output_type": "stream",
          "text": [
            "Size of the tuple: 4\n",
            "('Best Mystery & Thriller', 'The Silent Patient', 68, 821)\n",
            "('Best Horror', 'The Institute', 75, 717)\n",
            "('Best History & Biography', 'The five', 31, 783)\n",
            "('Best Fiction', 'The Testaments', 98, 291)\n"
          ]
        }
      ],
      "source": [
        "#3\n",
        "book_info = ((\"Best Mystery & Thriller\",\"The Silent Patient\",68,821), (\"Best Horror\",\"The Institute\",75,717), (\"Best History & Biography\",\"The five\",31,783 ), (\"Best Fiction\",\"The Testaments\",98,291) ) \n",
        "print(\"Size of the tuple:\",len(book_info))\n",
        "for i in book_info:\n",
        "    print(i)"
      ]
    },
    {
      "cell_type": "markdown",
      "source": [
        "**Task 4**\n",
        "\n",
        "Assume, you have been given a tuple with details about books that won the Good Reads  Choice Awards. \n",
        "\n",
        "*book_info = ( \n",
        "(\"Best Mystery & Thriller\",\"The Silent Patient\",68821), \n",
        "(\"Best Horror\",\"The Institute\",75717), \n",
        "(\"Best History & Biography\",\"The five\",31783 ), \n",
        "(\"Best Fiction\",\"The Testaments\",98291) \n",
        ")*\n",
        "\n",
        "Write a Python program that prints the award category, the book name, and its total votes  earned as shown below. \n",
        "\n",
        "[*Must use Tuple unpacking for printing and need to handle the quotation marks as a part  of the output*]\n",
        "\n",
        "Output: \n",
        "\n",
        "The Silent Patient won the 'Best Mystery & Thriller' category with 68821 votes\n",
        "\n",
        "The Institute won the 'Best Horror' category with 75717 votes \n",
        "\n",
        "The five won the 'Best History & Biography' category with 31783 votes \n",
        "\n",
        "The Testaments won the 'Best Fiction' category with 98291 votes \n"
      ],
      "metadata": {
        "id": "d2zaQEt87Vsv"
      }
    },
    {
      "cell_type": "code",
      "execution_count": null,
      "metadata": {
        "id": "kUlEIo67qEHV",
        "outputId": "09eddd05-f375-42d7-8993-021a702c9db4"
      },
      "outputs": [
        {
          "name": "stdout",
          "output_type": "stream",
          "text": [
            "The Silent Patient won the 'Best Mystery & Thriller' category with 68821 votes\n",
            "The Institute won the 'Best Horror' category with 75717 votes\n",
            "The five won the 'Best History & Biography' category with 31783 votes\n",
            "The Testaments won the 'Best Fiction' category with 98291 votes\n"
          ]
        }
      ],
      "source": [
        "book_info = ( (\"Best Mystery & Thriller\",\"The Silent Patient\",68821), (\"Best Horror\",\"The Institute\",75717), (\"Best History & Biography\",\"The five\",31783 ), (\"Best Fiction\",\"The Testaments\",98291) ) \n",
        "for award,title,votes in book_info:\n",
        "    print(f\"{title} won the '{award}' category with {votes} votes\")"
      ]
    },
    {
      "cell_type": "markdown",
      "source": [
        "**Task 5**\n",
        "\n",
        "Write a python program that takes an input from the user and finds the number of times that the  input is present in a given tuple. \n",
        "\n",
        "**Example 1:**\n",
        "\n",
        "Given tuple: (10, 8, 5, 2, 10, 15, 10, 8, 5, 8, 8, 2) \n",
        "\n",
        "Sample Input 1: \n",
        "\n",
        "8 \n",
        "\n",
        "Sample Output 1: \n",
        "\n",
        "8 appears 4 times in the tuple \n",
        "\n",
        "**Example 2**\n",
        "\n",
        "Given tuple: (10, 8, 5, 2, 10, 15, 10, 8, 5, 8, 8, 2) \n",
        "\n",
        "Sample Input 2: \n",
        "\n",
        "1 \n",
        "\n",
        "Sample Output 2: \n",
        "\n",
        "1 appears 0 times in the tuple \n",
        "\n"
      ],
      "metadata": {
        "id": "CScOvT7s8AtG"
      }
    },
    {
      "cell_type": "code",
      "execution_count": null,
      "metadata": {
        "id": "7yguw2vUqEHW",
        "outputId": "c045ed2f-120f-4765-9a7d-f3bf096ef299"
      },
      "outputs": [
        {
          "name": "stdout",
          "output_type": "stream",
          "text": [
            "5 appears 2 times in the tuple\n"
          ]
        }
      ],
      "source": [
        "#5\n",
        "given_tuple = (10, 8, 5, 2, 10, 15, 10, 8, 5, 8, 8, 2)\n",
        "d = int(input())\n",
        "print(f\"{d} appears {given_tuple.count(d)} times in the tuple\")"
      ]
    },
    {
      "cell_type": "markdown",
      "source": [
        "**Task 6**\n",
        "\n",
        "Write a Python program to reverse a given tuple.\n",
        "\n",
        "[*You are not allowed to use tuple slicing*] \n",
        " \n",
        "Note: Unlike lists, tuples are immutable. So, in order to reverse a tuple, we may need to convert  it into a list first, then modify the list, and finally convert it back to a tuple.\n",
        "\n",
        "**Example 1:** \n",
        "\n",
        "Given tuple: ('a', 'b', 'c', 'd', 'e', 'f', 'g', 'h')\n",
        "\n",
        "Output: \n",
        "('h', 'g', 'f', 'e', 'd', 'c', 'b', 'a') \n",
        "\n",
        "**Example 2:**\n",
        "\n",
        "Given tuple: (10, 20, 30, 40, 50, 60) \n",
        "\n",
        "Output:\n",
        "(60, 50, 40, 30, 20, 10)\n"
      ],
      "metadata": {
        "id": "nhTwrFWm8axf"
      }
    },
    {
      "cell_type": "code",
      "execution_count": null,
      "metadata": {
        "id": "WKyhzLXLqEHW",
        "outputId": "d906d30c-2217-4c7e-9bd7-667f4e907b5c"
      },
      "outputs": [
        {
          "name": "stdout",
          "output_type": "stream",
          "text": [
            "('h', 'g', 'f', 'e', 'd', 'c', 'b', 'a')\n"
          ]
        }
      ],
      "source": [
        "#6\n",
        "given_tuple = ('a', 'b', 'c', 'd', 'e', 'f', 'g', 'h')\n",
        "lis_1 = list(given_tuple)\n",
        "lis_1.reverse()\n",
        "mod_tuple = tuple(lis_1)\n",
        "print(mod_tuple)"
      ]
    },
    {
      "cell_type": "markdown",
      "source": [
        "**Task 7**\n",
        "\n",
        "Suppose you are given two dictionaries.\n",
        "\n",
        "Now create a new dictionary \"marks\", merging the two dictionaries, so that the original two  dictionaries remain unchanged.\n",
        "\n",
        "Note: You can use dictionary functions.\n",
        "\n",
        "Given: \n",
        "\n",
        "{'Harry':15, 'Draco':8, 'Nevil':19} \n",
        "\n",
        "{'Ginie':18, 'Luna': 14} \n",
        "\n",
        "Output: \n",
        "\n",
        "{'Harry': 15, 'Draco': 8, 'Nevil': 19, 'Ginie': 18, 'Luna': 14}\n",
        "\n",
        "Given: \n",
        "\n",
        "{'A':90, 'B': 0} \n",
        "\n",
        "{'C':50} \n",
        "\n",
        "Output: \n",
        "\n",
        "{'A': 90, 'B': 0, 'C': 50} \n",
        "\n"
      ],
      "metadata": {
        "id": "KYlEbKfx8s-Y"
      }
    },
    {
      "cell_type": "code",
      "execution_count": null,
      "metadata": {
        "id": "EqSNLCZ6F6aA",
        "outputId": "b8931419-d7b4-4b6e-b42c-568610703a2a"
      },
      "outputs": [
        {
          "name": "stdout",
          "output_type": "stream",
          "text": [
            "{'Harry': 15, 'Draco': 8, 'Nevil': 19, 'Ginie': 18, 'Luna': 14}\n"
          ]
        }
      ],
      "source": [
        "#7\n",
        "dict_1 = {'Harry':15, 'Draco':8, 'Nevil':19}\n",
        "dict_2 = {'Ginie':18, 'Luna': 14}\n",
        "dict_3 = dict_1.copy()\n",
        "dict_3.update(dict_2)\n",
        "print(dict_3)"
      ]
    },
    {
      "cell_type": "markdown",
      "source": [
        "**Task 8**\n",
        "\n",
        "Write a Python program that takes a dictionary as an input from the user and then prints the  average of all the values in the dictionary.\n",
        "\n",
        "[*You are not allowed to use len() and sum()*]\n",
        "\n",
        "Hint (1): For taking dictionary input \n",
        "\n",
        "Approach (1): For taking dictionary as an input from the user, you may take the whole dictionary  as a string using the input() function. Then you can use the split(), strip() functions and  conditions to get the keys and values from the string. Finally, you can make the dictionary using  the obtained data. \n",
        "\n",
        "Approach (2): If the first approach seems too difficult you can create an empty dictionary and  then just run a simple loop. For each iteration ask the user for a key and a value using the  input() function and keep updating the dictionary with the key and value. \n",
        "\n",
        "Hint (2): After you have a dictionary, you can use dictionary functions to get all the values from  it, run loop to calculate the sum and the total number of values in the dictionary in order to find  out the average.\n",
        "\n",
        "Sample Input 1: \n",
        "\n",
        "{'Jon': 100, 'Dan':200, 'Rob':300} \n",
        "\n",
        "Sample Output 1: \n",
        "\n",
        "Average is 200. \n",
        "\n",
        "Sample Input 2: \n",
        "\n",
        "{'Jon': 100, 'Dan':200, 'Rob':30, 'Ned':110} \n",
        "\n",
        "Sample Output 2: \n",
        "\n",
        "Average is 110. \n"
      ],
      "metadata": {
        "id": "y2SP3Fm19CWe"
      }
    },
    {
      "cell_type": "code",
      "execution_count": null,
      "metadata": {
        "id": "6LXi4_ZdqEHY",
        "outputId": "25c43f59-e087-4296-b96b-d3547d87bc6f"
      },
      "outputs": [
        {
          "name": "stdout",
          "output_type": "stream",
          "text": [
            "[\"'Jon':100\", \"'Dan':200\", \"'Rob':300\"]\n",
            "Average is 0\n"
          ]
        }
      ],
      "source": [
        "#8\n",
        "s= \"{'Jon':100, 'Dan':200, 'Rob':300}\"\n",
        "s=s.replace(\" \",\"\") \n",
        "s=s.strip(\"{}\")\n",
        "lis_1 =  s.split(\",\")\n",
        "print(lis_1)\n",
        "dict_1 ={}\n",
        "summation = 0\n",
        "length = 0\n",
        "\n",
        "for i in lis_1:\n",
        "    \n",
        "    key, value = i.split(':')\n",
        "    key = key.strip(\"'\")\n",
        "    dict_1[key] = int(value)\n",
        "    sum = sum + int(value)\n",
        "    \n",
        "    length += 1\n",
        "\n",
        "print(f\"Average is {int(summation / length)}\")"
      ]
    },
    {
      "cell_type": "markdown",
      "source": [
        "**Task 9**\n",
        "\n",
        "Suppose there is a dictionary named exam_marks as given below. \n",
        "\n",
        "exam_marks = {'Cierra Vega': 175, 'Alden Cantrell': 200, 'Kierra Gentry': 165, 'Pierre Cox': 190} \n",
        "\n",
        "Write a Python program that takes an input from the user and creates a new dictionary with only  those elements from 'exam_marks' whose keys have values higher than the user input  (inclusive). \n",
        "\n",
        "Sample Input 1: \n",
        "\n",
        "170 \n",
        "\n",
        "Sample Output 1: \n",
        "\n",
        "{'Cierra Vega': 175, 'Alden Cantrell': 200, 'Pierre Cox': 190} \n",
        "\n",
        "Sample Input 2: \n",
        "\n",
        "190 \n",
        "\n",
        "Sample Output 2: \n",
        "\n",
        "{'Alden Cantrell': 200, 'Pierre Cox': 190} \n",
        "\n"
      ],
      "metadata": {
        "id": "FaJwHzFN9dE8"
      }
    },
    {
      "cell_type": "code",
      "execution_count": null,
      "metadata": {
        "colab": {
          "base_uri": "https://localhost:8080/",
          "height": 217
        },
        "id": "Gyg6WKxxqEHZ",
        "outputId": "3e2694ab-3ad8-4614-9b2a-bc5b6f6de3c4"
      },
      "outputs": [
        {
          "name": "stdout",
          "output_type": "stream",
          "text": [
            "{'Cierra Vega': 175, 'Alden Cantrell': 200, 'Kierra Gentry': 165, 'Pierre Cox': 190}\n"
          ]
        }
      ],
      "source": [
        "#9\n",
        "exam_marks = {'Cierra Vega': 175, 'Alden Cantrell': 200, 'Kierra Gentry': 165, 'Pierre Cox': 190}\n",
        "new_dict ={}\n",
        "x = int(input())\n",
        "for name,score in exam_marks.items():\n",
        "    if score > x:\n",
        "        new_dict[name]=score\n",
        "print(new_dict)\n"
      ]
    },
    {
      "cell_type": "markdown",
      "source": [
        "**Task 10**\n",
        "\n",
        "Write a Python program that finds the largest value with its key from a given dictionary.\n",
        "[*You are not allowed to use the max() function for this task*] \n",
        "\n",
        "Note: You do not need to take the dictionaries as an input from the user but your code should  work for any given dictionary. Also, you need to handle the quotation marks as a part of the  output. \n",
        "\n",
        "Hint: Think of membership operators (in and not in). You can use dictionary functions to get the  values. \n",
        "\n",
        "**Sample 1:**\n",
        "\n",
        "Given: \n",
        "\n",
        "{'sci fi': 12, 'mystery': 15, 'horror': 8, 'mythology': 10, 'young_adult': 4, 'adventure':14} \n",
        "\n",
        "Output: \n",
        "\n",
        "The highest selling book genre is 'mystery' and the number of books sold are 15. \n",
        "\n",
        "**Sample 2:**\n",
        "\n",
        "Given: \n",
        "\n",
        "{'sci fi': 5, 'mystery': 3, 'horror': 14, 'young_adult': 2, 'adventure':9}\n",
        "\n",
        "Output: \n",
        "\n",
        "The highest selling book genre is 'horror' and the number of books sold are 14. "
      ],
      "metadata": {
        "id": "MI6eeMM29tlB"
      }
    },
    {
      "cell_type": "code",
      "execution_count": null,
      "metadata": {
        "id": "y3xNkpm4F6aC",
        "outputId": "caf51e92-ed90-499c-aae6-64ec57275a71"
      },
      "outputs": [
        {
          "name": "stdout",
          "output_type": "stream",
          "text": [
            "The highest selling book genre is 'mystery' and the number of books sold are 15\n"
          ]
        }
      ],
      "source": [
        "#10\n",
        "given_dict = {'sci fi': 12, 'mystery': 15, 'horror': 8, 'mythology': 10, 'young_adult': 4,\n",
        "'adventure':14}\n",
        "max_1 = 0\n",
        "max_genre = \"\"\n",
        "for genre,sale in given_dict.items():\n",
        "    if sale > max_1 :\n",
        "        max_1 = sale\n",
        "        max_genre = genre\n",
        "print(f\"The highest selling book genre is '{max_genre}' and the number of books sold are {max_1}\")"
      ]
    },
    {
      "cell_type": "markdown",
      "source": [
        "**Task 11**\n",
        "\n",
        "Write a Python program that takes a String as an input from the user and counts the frequency  of each character using a dictionary. For solving this problem, you may use each character as a  key and its frequency as values. \n",
        "\n",
        "[*You are not allowed to use the count() function*] \n",
        "\n",
        "Hint: You can create a new dictionary to store the frequencies. You may ignore the case for  simplicity (i.e. may consider P and p to be the same). \n",
        "\n",
        "Sample Input:\n",
        "\n",
        "\"Python programming is fun\" \n",
        "\n",
        "Sample Output: \n",
        "\n",
        "{'p': 2, 'y': 1, 't': 1, 'h': 1, 'o': 2, 'n': 3, 'r': 2, 'g': 2, 'a': 1, 'm': 2, 'i': 2, 's': 1, 'f': 1, 'u': 1}\n"
      ],
      "metadata": {
        "id": "uiSRM_Vf-C0y"
      }
    },
    {
      "cell_type": "code",
      "execution_count": null,
      "metadata": {
        "id": "_BoyoT4mF6aC",
        "outputId": "65ae477f-0cfb-447a-b523-46b14e4ebd63"
      },
      "outputs": [
        {
          "name": "stdout",
          "output_type": "stream",
          "text": [
            "{'p': 5, 'y': 1, 't': 1, 'h': 1, 'o': 2, 'n': 3, 'r': 2, 'g': 2, 'a': 1, 'm': 2, 'i': 2, 's': 1, 'f': 1, 'u': 1}\n"
          ]
        }
      ],
      "source": [
        "#11\n",
        "str_1 = \"Ppppython programming is fun\"\n",
        "str_1 = str_1.replace(\" \",\"\")\n",
        "str_1 = str_1.lower()\n",
        "dict_1 = {}\n",
        "for i in str_1:\n",
        "    if i in dict_1.keys():\n",
        "        dict_1[i] += 1\n",
        "    else:\n",
        "        dict_1[i]=1\n",
        "print(dict_1)"
      ]
    },
    {
      "cell_type": "markdown",
      "source": [
        "**Task 12**\n",
        "\n",
        "Suppose you are given the following dictionary where the values are lists.\n",
        "\n",
        "dict_1 = {'A': [1, 2, 3], 'b': ['1', '2'], \"c\": [4, 5, 6, 7]} \n",
        "\n",
        "Write a Python program that counts the total number of items in a dictionary’s values and prints  it.\n",
        "\n",
        "[*Without using sum(), len(), count() functions*] \n",
        "\n",
        "Note: Make changes to the above dictionary and see if your code works properly for other  dictionaries as well.\n",
        "\n",
        "Output:\n",
        "9 \n"
      ],
      "metadata": {
        "id": "r9UD7FlW-YTa"
      }
    },
    {
      "cell_type": "code",
      "execution_count": null,
      "metadata": {
        "id": "eo7lHEu4F6aD",
        "outputId": "3bd6bb40-cf82-49ea-a5a9-7a95c721b53e"
      },
      "outputs": [
        {
          "name": "stdout",
          "output_type": "stream",
          "text": [
            "9\n"
          ]
        }
      ],
      "source": [
        "#12\n",
        "given_dict = {'A': [1, 2, 3], 'b': ['1', '2'], \"c\": [4, 5, 6, 7]}\n",
        "length = 0\n",
        "for key,value in given_dict.items():\n",
        "    length = len(value) + length\n",
        "print(length)"
      ]
    },
    {
      "cell_type": "markdown",
      "source": [
        "**Task 13**\n",
        "\n",
        "Suppose you have been given the following list of tuples.\n",
        "\n",
        "list_1 = [(\"a\", 1), (\"b\", 2), (\"a\", 3), (\"b\", 1), (\"a\", 2), (\"c\", 1)]\n",
        "\n",
        "Write a Python program that converts this list of tuples into a dictionary and then prints the  dictionary.\n",
        "\n",
        "[You are not allowed to use set] \n",
        "\n",
        "Hint: Think of membership operators (in and not in). \n",
        "\n",
        "Output: \n",
        "\n",
        "{'a': [1, 3, 2], 'b': [2, 1], 'c': [1]} \n",
        "\n"
      ],
      "metadata": {
        "id": "4FQ9IVm0-r-D"
      }
    },
    {
      "cell_type": "code",
      "execution_count": null,
      "metadata": {
        "id": "MfzfhCAlF6aD",
        "outputId": "b41f41f7-5e72-4daf-da84-b76176744208"
      },
      "outputs": [
        {
          "name": "stdout",
          "output_type": "stream",
          "text": [
            "{'a': [1, 3, 2], 'b': [2, 1], 'c': [1]}\n"
          ]
        }
      ],
      "source": [
        "#13\n",
        "list_1 = [(\"a\", 1), (\"b\", 2), (\"a\", 3), (\"b\", 1), (\"a\", 2), (\"c\", 1)] \n",
        "dict_1 = {}\n",
        "for key, value in list_1:\n",
        "    dict_1.setdefault(key,[]).append(value)\n",
        "print(dict_1)"
      ]
    },
    {
      "cell_type": "markdown",
      "source": [
        "# **Tracing**"
      ],
      "metadata": {
        "id": "YHEKMPrz-73v"
      }
    },
    {
      "cell_type": "code",
      "execution_count": null,
      "metadata": {
        "id": "4OanL8SuF6aE"
      },
      "outputs": [],
      "source": [
        "#14\n",
        "var1 = var2 = var3 = var4 = var5 = var6 = False\n",
        "result1 = result2 = result3 = result4 = result5 = result6 = result7 = result8 = result9 = result10 = False\n",
        "var1 = 4 < 3 - 1\n",
        "var2 = var1 and False\n",
        "var3 = False\n",
        "var4 = True\n",
        "var5 = False\n",
        "var6 = var3 and True\n",
        "result1 = (var1 or var2) and (8 * 10 > 45)\n",
        "result2 = (var1 or var2) and (result1 and False)\n",
        "result3 = (var1 and result1) or result2\n",
        "result4 = (var1 or var2) or ((var3 and var1) and False)\n",
        "result5 = (var1 and var2) and (result3 or var1)\n",
        "result6 = ((var3 or var2) and not result5) or True\n",
        "result7 = (var4 and result1) and ((result1 and False) or True)\n",
        "result8 = ((var1 and result3) and (var5 or var6)) and True\n",
        "result9 = ((result2 and var2) or (result7 and var1)) and False\n",
        "result10 = not(var1 and True)\n",
        "\n"
      ]
    },
    {
      "cell_type": "code",
      "source": [
        "#15\n",
        "var1 = False\n",
        "var2 = False\n",
        "var3 = False\n",
        "var4 = False\n",
        "var5 = False\n",
        "var6 = False\n",
        "result1 = False\n",
        "result2 = False\n",
        "result3 = False\n",
        "result4 = False\n",
        "result5 = False\n",
        "result6 = False\n",
        "result7 = False\n",
        "result8 = False\n",
        "result9 = False\n",
        "result10 = False\n",
        "var1 = ((not True) or True) and False\n",
        "var2 = var1 and False\n",
        "var3 = True and not False\n",
        "var4 = False\n",
        "var5 = True\n",
        "var6 = var3 and False\n",
        "result1 = (var1 and var2) and (40 % 3) > 45 or (var5 and var6)\n",
        "result2 = (var1 or var2) or (result1 and False)\n",
        "result3 = (var1 and result1) or result2 or var5\n",
        "result4 = (var1 or var2) or ((var3 and var1) and False)\n",
        "result5 = (var1 and var2) and (result3 or var1)\n",
        "result6 = ((var3 or (not var2)) and (result5)) or True\n",
        "result7 = (var4 and result1) and ((result1 and False) or True)\n",
        "result8 = ((var1 and result3) and ((not var5) or var6)) and True\n",
        "result9 = ((result2 and var2) or ((not result7) and var1)) and not False\n",
        "result10 = not(var1 and True)"
      ],
      "metadata": {
        "id": "RDMOCQOn_vWw"
      },
      "execution_count": null,
      "outputs": []
    },
    {
      "cell_type": "code",
      "source": [
        "#16\n",
        "myList = [0, 0, 0, 0, 0, 0, 0, 0, 0, 0]\n",
        "index1 = 0\n",
        "index2 = 0\n",
        "index1 = 1\n",
        "while(index1<10):\n",
        "    myList[index1] = index1+4\n",
        "    index2 = 1\n",
        "    while(index2<index1):\n",
        "        myList[index1] = myList[index1] + myList[index2]-index1\n",
        "        index2 = index2+1\n",
        "    print(myList[index1])\n",
        "    index1 = index1+1"
      ],
      "metadata": {
        "id": "WqqJaGs5ASB0"
      },
      "execution_count": null,
      "outputs": []
    },
    {
      "cell_type": "code",
      "source": [
        "#17\n",
        "myList = [0, 0, 0, 0, 0, 0, 0, 0, 0, 0]\n",
        "index1 = 0\n",
        "index2 = 0\n",
        "index1 = 1\n",
        "while (index1 < 10):\n",
        "    myList[index1] = index1 + 4\n",
        "    index2 = 1\n",
        "    while (index2 < index1):\n",
        "        myList[index1] = myList[index1-1] - myList[index2-1] - index1\n",
        "        index2 = index2 + 1\n",
        "    print(myList[index1])\n",
        "    index1 = index1 + 1"
      ],
      "metadata": {
        "id": "PwRyWRcIAwGM"
      },
      "execution_count": null,
      "outputs": []
    },
    {
      "cell_type": "code",
      "source": [
        "#18\n",
        "myList = [0, 0, 0, 0, 0, 0, 0, 0, 0, 0]\n",
        "b = []\n",
        "index1 = 0\n",
        "index2 = 0\n",
        "index1 = 1\n",
        "b = myList\n",
        "while(index1<10):\n",
        "    myList[index1] = index1+2\n",
        "    index2 = 1\n",
        "    while(index2<index1):\n",
        "        myList[index1] = b[index1]+myList[index2]-index1\n",
        "        index2 = index2+1\n",
        "    print(myList[index1])\n",
        "    index1 = index1+1"
      ],
      "metadata": {
        "id": "_7SM0_NWBCfv"
      },
      "execution_count": null,
      "outputs": []
    },
    {
      "cell_type": "code",
      "source": [
        "#19\n",
        "myList = [0, 0, 0, 0, 0, 0, 0, 0, 0, 0]\n",
        "b = []\n",
        "index1 = 0\n",
        "index2 = 0\n",
        "index1 = 1\n",
        "b = myList\n",
        "while (index1 < 10):\n",
        "    myList[index1] = index1 + 1\n",
        "    index2 = 1\n",
        "    while (index2 < index1):\n",
        "        myList[index1] = b[index2-1] + myList[index2] - index1\n",
        "        index2 = index2 + 1\n",
        "    print(myList[index1])\n",
        "    index1 = index1 + 1\n"
      ],
      "metadata": {
        "id": "P7LgwnkbBVx7"
      },
      "execution_count": null,
      "outputs": []
    },
    {
      "cell_type": "markdown",
      "source": [
        "# **Ungraded**"
      ],
      "metadata": {
        "id": "qSdeO47kB_GX"
      }
    },
    {
      "cell_type": "markdown",
      "source": [
        "**Task 20**\n",
        "\n",
        "Given a list of tuples, your task is to multiply the elements of the tuple and return a list of\n",
        "multiplied elements as shown below.\n",
        "\n",
        "Example 1:\n",
        "\n",
        "Given:\n",
        "\n",
        "[(2, 3), (4, 5), (6, 7), (2, 8)]\n",
        "\n",
        "Output:\n",
        "\n",
        "[6, 20, 42, 16]\n",
        "\n",
        "Example 2:\n",
        "\n",
        "Given:\n",
        "\n",
        "[(11, 22), (33, 55), (55, 77), (11, 44)]\n",
        "\n",
        "Output:\n",
        "\n",
        "[242, 1815, 4235, 484]"
      ],
      "metadata": {
        "id": "qvLbfx3yCPe4"
      }
    },
    {
      "cell_type": "code",
      "source": [
        "lis_0 = [(2, 3), (4, 5), (6, 7), (2, 8)\n",
        "lis_1 = []\n",
        "\n",
        "for x,y in lis_0:\n",
        "    lis_1.append(x*y)\n",
        "\n",
        "print(lis_1)"
      ],
      "metadata": {
        "id": "c-USQzBPClKE"
      },
      "execution_count": null,
      "outputs": []
    },
    {
      "cell_type": "markdown",
      "source": [
        "**Task 21**\n",
        "\n",
        "Assume, you have been given a tuple as below.\n",
        "\n",
        "a_tuple = ( [1, 2, 3], [4, 5, 6], [7, 8, 9], [10, 11, 12])\n",
        "\n",
        "Write a Python program that asks the user for an input (can be any data type) and replaces the\n",
        "last element of each of the inner lists with the user given value.\n",
        "\n",
        "Sample Input 1:\n",
        "\n",
        "abc\n",
        "\n",
        "Sample Output 1:\n",
        "\n",
        "([1, 2, 'abc'], [4, 5, 'abc'], [7, 8, 'abc'], [10, 11, 'abc'])\n",
        "\n",
        "Sample Input 1:\n",
        "\n",
        "1000\n",
        "\n",
        "Sample Output 1:\n",
        "\n",
        "([1, 2, '1000'], [4, 5, '1000'], [7, 8, '1000'], [10, 11, '1000'])"
      ],
      "metadata": {
        "id": "V6HglpZCCkgi"
      }
    },
    {
      "cell_type": "code",
      "source": [
        "a_tuple = ( [1, 2, 3], [4, 5, 6], [7, 8, 9], [10, 11, 12])\n",
        "a_list = list(a_tuple)\n",
        "user_1 = input()\n",
        "for item in  a_list:\n",
        "    item[-1] = user_1\n",
        "print(a_tuple)"
      ],
      "metadata": {
        "colab": {
          "base_uri": "https://localhost:8080/"
        },
        "id": "gj-_jsuNFAhH",
        "outputId": "dcf10225-930d-4eff-a97a-9d7f4ea8fdaa"
      },
      "execution_count": 6,
      "outputs": [
        {
          "output_type": "stream",
          "name": "stdout",
          "text": [
            "abc\n",
            "([1, 2, 'abc'], [4, 5, 'abc'], [7, 8, 'abc'], [10, 11, 'abc'])\n"
          ]
        }
      ]
    },
    {
      "cell_type": "markdown",
      "source": [
        "**Task 22**\n",
        "\n",
        "Suppose there is a dictionary named my_dictionary.\n",
        "\n",
        "my_dictionary = {'c1': 'Red', 'c2': 'Green', 'c3':None, 'd4':'Blue', 'a5':None}.\n",
        "\n",
        "Now write a Python program to remove empty items from the dictionary.\n",
        "\n",
        "[Empty items means keys without any values (None)].\n",
        "\n",
        "Output:\n",
        "\n",
        "{'c1':'Red', 'c2':'Green', 'd4':'Blue'}\n"
      ],
      "metadata": {
        "id": "bdH4Am9CCx-2"
      }
    },
    {
      "cell_type": "code",
      "source": [
        "my_dictionary = {'c1': 'Red', 'c2': 'Green', 'c3':None, 'd4':'Blue', 'a5':None}\n",
        "duplicate_dict = my_dictionary.copy()\n",
        "for k in duplicate_dict.keys():\n",
        "    if my_dictionary[k] == None:\n",
        "        my_dictionary.pop(k)\n",
        "print(my_dictionary)"
      ],
      "metadata": {
        "colab": {
          "base_uri": "https://localhost:8080/"
        },
        "id": "LiXXMBScFA8z",
        "outputId": "75863c31-f988-45f7-f61e-ab1cac5dae30"
      },
      "execution_count": 10,
      "outputs": [
        {
          "output_type": "stream",
          "name": "stdout",
          "text": [
            "{'c1': 'Red', 'c2': 'Green', 'd4': 'Blue'}\n"
          ]
        }
      ]
    },
    {
      "cell_type": "markdown",
      "source": [
        "**Task 23**\n",
        "\n",
        "Suppose you are given a dictionary as shown below. Write a Python program that takes two\n",
        "inputs from the user representing the lower (inclusive) and upper (exclusive) of a range of\n",
        "values. Your task is to extract all the items from the dictionary whose values lie in the range\n",
        "given as input by the user.\n",
        "\n",
        "dict_1 = {'a' : 6, 'b' : 7, 'c' : 9, 'd' : 8, 'e' : 11, 'f' : 12, 'g' : 13}\n",
        "\n",
        "Sample Input 1:\n",
        "\n",
        "9, 12\n",
        "\n",
        "Sample Output 1:\n",
        "\n",
        "{'c': 9, 'e': 11}\n",
        "\n",
        "Explanation: Keys with values within the range of 9 and 11 are extracted.\n",
        "\n",
        "Sample Input 2:\n",
        "\n",
        "14, 18\n",
        "\n",
        "Sample Output 2:\n",
        "\n",
        "{}\n",
        "\n",
        "Explanation: No values in range.\n"
      ],
      "metadata": {
        "id": "9uNzawkYC_4q"
      }
    },
    {
      "cell_type": "code",
      "source": [
        "dict_1 = {'a' : 6, 'b' : 7, 'c' : 9, 'd' : 8, 'e' : 11, 'f' : 12, 'g' : 13}\n",
        "lim = input()\n",
        "lim = list(map(int,lim.split(\",\")))\n",
        "\n",
        "initial,end=lim\n",
        "dict_2 = {}\n",
        "for key in dict_1.keys():\n",
        "    val = dict_1[key]\n",
        "    if initial <= val < end:\n",
        "        dict_2[key]=val\n",
        "\n",
        "print(dict_2)"
      ],
      "metadata": {
        "colab": {
          "base_uri": "https://localhost:8080/"
        },
        "id": "-T2HE15xDMfe",
        "outputId": "98290efa-af2f-49cf-cded-ac308dce58a4"
      },
      "execution_count": 1,
      "outputs": [
        {
          "output_type": "stream",
          "name": "stdout",
          "text": [
            "9,12\n",
            "{'c': 9, 'e': 11}\n"
          ]
        }
      ]
    },
    {
      "cell_type": "markdown",
      "source": [
        "**Task 24**\n",
        "\n",
        "Given a list of tuples, your task is to group the tuples based on the second element in the tuples\n",
        "as shown in the examples below. \n",
        "\n",
        "We can achieve this using dictionary by checking the second\n",
        "element in each tuple.\n",
        "\n",
        "[You do not need to take tuple as input and can assume that it is given as below]\n",
        "\n",
        "**Example 1:**\n",
        "\n",
        "Given:\n",
        "\n",
        "[(20, 80), (31, 80), (1, 22), (88, 11), (27, 11)]\n",
        "\n",
        "Output:\n",
        "\n",
        "{80: [(20, 80), (31, 80)],\n",
        "\n",
        "11: [(88, 11), (27, 11)],\n",
        "\n",
        "22: [(1, 22)]}\n",
        "\n",
        "**Example 2:**\n",
        "\n",
        "Given:\n",
        "\n",
        "[(20, 'Sad'), (31, 'Sad'), (88, 'NotSad'), (27, 'NotSad')]\n",
        "\n",
        "Output:\n",
        "\n",
        "{'NotSad': [(88, 'NotSad'), (27, 'NotSad')],\n",
        "'Sad: [(20, 'Sad'), (31, 'Sad')]}\n"
      ],
      "metadata": {
        "id": "cgKHCyD2DMpf"
      }
    },
    {
      "cell_type": "code",
      "source": [
        "lis_0 = [(20, 80), (31, 80), (1, 22), (88, 11), (27, 11)]\n",
        "dict_1 ={}\n",
        "for x,y in lis_0:\n",
        "    if y in dict_1:\n",
        "        dict_1[y].append((x,y))\n",
        "    else:\n",
        "        dict_1[y]=[(x,y)]\n",
        "print(dict_1)"
      ],
      "metadata": {
        "colab": {
          "base_uri": "https://localhost:8080/"
        },
        "id": "U12xizx0Db6M",
        "outputId": "e9175c7c-83e7-4bc8-cba6-d4fef323f539"
      },
      "execution_count": 6,
      "outputs": [
        {
          "output_type": "stream",
          "name": "stdout",
          "text": [
            "{80: [(20, 80), (31, 80)], 22: [(1, 22)], 11: [(88, 11), (27, 11)]}\n"
          ]
        }
      ]
    }
  ],
  "metadata": {
    "colab": {
      "name": "Assignment_5.ipynb",
      "provenance": [],
      "collapsed_sections": []
    },
    "interpreter": {
      "hash": "e0cd886ada0f3e13a77116fa0dac2e4ffd50c536d85ad63b47e81758c1d5748f"
    },
    "kernelspec": {
      "display_name": "Python 3.10.3 64-bit",
      "language": "python",
      "name": "python3"
    },
    "language_info": {
      "codemirror_mode": {
        "name": "ipython",
        "version": 3
      },
      "file_extension": ".py",
      "mimetype": "text/x-python",
      "name": "python",
      "nbconvert_exporter": "python",
      "pygments_lexer": "ipython3",
      "version": "3.10.3"
    },
    "orig_nbformat": 4
  },
  "nbformat": 4,
  "nbformat_minor": 0
}
